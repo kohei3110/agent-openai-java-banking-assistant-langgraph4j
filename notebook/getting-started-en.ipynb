{
 "cells": [
  {
   "cell_type": "markdown",
   "id": "2e69fb46",
   "metadata": {},
   "source": [
    "# Getting Started"
   ]
  },
  {
   "cell_type": "markdown",
   "id": "c972ee28",
   "metadata": {},
   "source": [
    "# LangGraph4j Detailed Explanation\n",
    "\n",
    "## 1. Basic Concepts of LangGraph\n",
    "\n",
    "LangGraph is a framework for building complex applications that utilize language models (LLMs). LangGraph4j is the Java implementation, based on the same design philosophy as the Python version of LangChain/LangGraph.\n",
    "\n",
    "### What is LangGraph4j\n",
    "\n",
    "- **Definition**: LangGraph4j is a Java library for building complex AI workflows using a graph-based architecture\n",
    "- **Purpose**: To modularize applications using LLMs and decompose them into manageable components\n",
    "- **Key Features**: State management, graph-based execution flow, type safety\n",
    "\n",
    "### Benefits of Graph-Based Design\n",
    "\n",
    "- **Modularity**: Functions can be implemented as independent nodes, improving reusability\n",
    "- **Visibility**: Application flow can be visually represented, making complex processes easier to understand\n",
    "- **Extensibility**: New features can be easily added to existing graphs\n",
    "- **Debugging**: Execution and state changes of each node are easier to track"
   ]
  },
  {
   "cell_type": "markdown",
   "id": "36bc7c01",
   "metadata": {},
   "source": [
    "## 2. Core Components of LangGraph4j\n",
    "\n",
    "### StateGraph\n",
    "\n",
    "StateGraph is the central class of LangGraph4j, defining the graph structure and execution flow.\n",
    "\n",
    "- **Initialization**: Initialize by specifying state type and schema\n",
    "- **Compilation**: Validate if the graph is executable and convert it to an execution engine\n",
    "- **Execution**: Execute with initial state and obtain state changes as a stream\n",
    "\n",
    "### Nodes and Edges\n",
    "\n",
    "- **Nodes**: Functions or classes that execute processing (implementing the `NodeAction` interface)\n",
    "- **Edges**: Define connection relationships and execution order between nodes\n",
    "- **Special Nodes**: Special nodes `START` and `END` represent the beginning and end of the graph\n",
    "\n",
    "### State Management\n",
    "\n",
    "- **AgentState**: Class for maintaining and updating data during graph execution\n",
    "- **Channel**: Defines state update methods (replacement, addition, merge, etc.)\n",
    "- **Schema**: Defines state structure and ensures type safety"
   ]
  },
  {
   "cell_type": "code",
   "execution_count": null,
   "id": "8fc05370",
   "metadata": {
    "vscode": {
     "languageId": "java"
    }
   },
   "outputs": [],
   "source": [
    "var userHomeDir = System.getProperty(\"user.home\");\n",
    "var localRespoUrl = \"file://\" + userHomeDir + \"/.m2/repository/\";\n",
    "var langchain4jVersion = \"1.0.1\";\n",
    "var langchain4jbeta = \"1.0.1-beta6\";\n",
    "var langgraph4jVersion = \"1.6.0-beta2\";"
   ]
  },
  {
   "cell_type": "markdown",
   "id": "251dba4f",
   "metadata": {},
   "source": [
    "Remove packages installed from Jupyter cache"
   ]
  },
  {
   "cell_type": "code",
   "execution_count": null,
   "id": "e56c8d6b",
   "metadata": {
    "vscode": {
     "languageId": "java"
    }
   },
   "outputs": [],
   "source": [
    "%%bash \n",
    "rm -rf \\{userHomeDir}/Library/Jupyter/kernels/rapaio-jupyter-kernel/mima_cache/org/bsc/langgraph4j"
   ]
  },
  {
   "cell_type": "markdown",
   "id": "81e9d4c8",
   "metadata": {},
   "source": [
    "Add local Maven repository and install required Maven dependencies"
   ]
  },
  {
   "cell_type": "code",
   "execution_count": null,
   "id": "242a8960",
   "metadata": {
    "vscode": {
     "languageId": "java"
    }
   },
   "outputs": [],
   "source": [
    "%dependency /add-repo local \\{localRespoUrl} release|never snapshot|always\n",
    "// %dependency /list-repos\n",
    "%dependency /add org.slf4j:slf4j-jdk14:2.0.9\n",
    "%dependency /add org.bsc.langgraph4j:langgraph4j-core:\\{langgraph4jVersion}\n",
    "%dependency /add net.sourceforge.plantuml:plantuml-mit:1.2024.8\n",
    "%dependency /resolve"
   ]
  },
  {
   "cell_type": "code",
   "execution_count": null,
   "id": "1a6bd9c0",
   "metadata": {
    "vscode": {
     "languageId": "java"
    }
   },
   "outputs": [],
   "source": [
    "import net.sourceforge.plantuml.SourceStringReader;\n",
    "import net.sourceforge.plantuml.FileFormatOption;\n",
    "import net.sourceforge.plantuml.FileFormat;\n",
    "import org.bsc.langgraph4j.GraphRepresentation;\n",
    "\n",
    "void displayDiagram( GraphRepresentation representation ) throws IOException { \n",
    "    \n",
    "    var reader = new SourceStringReader(representation.getContent());\n",
    "\n",
    "    try(var imageOutStream = new java.io.ByteArrayOutputStream()) {\n",
    "\n",
    "        var description = reader.outputImage( imageOutStream, 0, new FileFormatOption(FileFormat.PNG));\n",
    "\n",
    "        var imageInStream = new java.io.ByteArrayInputStream(  imageOutStream.toByteArray() );\n",
    "\n",
    "        var image = javax.imageio.ImageIO.read( imageInStream );\n",
    "\n",
    "        display(  image );\n",
    "\n",
    "    }\n",
    "}"
   ]
  },
  {
   "cell_type": "markdown",
   "id": "7d096448",
   "metadata": {},
   "source": [
    "### 2-1. State Definition\n",
    "\n",
    "- State: **Holds a list of messages**."
   ]
  },
  {
   "cell_type": "code",
   "execution_count": null,
   "id": "7784172f",
   "metadata": {
    "vscode": {
     "languageId": "java"
    }
   },
   "outputs": [],
   "source": [
    "import org.bsc.langgraph4j.state.AgentState;\n",
    "import org.bsc.langgraph4j.state.Channels;\n",
    "import org.bsc.langgraph4j.state.Channel;\n",
    "\n",
    "import java.util.Collections;\n",
    "import java.util.List;\n",
    "import java.util.Map;\n",
    "import java.util.Optional;\n",
    "\n",
    "// Define the state for our graph\n",
    "class SimpleState extends AgentState {\n",
    "    public static final String MESSAGES_KEY = \"messages\";\n",
    "\n",
    "    // Define the schema for the state.\n",
    "    // MESSAGES_KEY will hold a list of strings, and new messages will be appended.\n",
    "    public static final Map<String, Channel<?>> SCHEMA = Map.of(\n",
    "            MESSAGES_KEY, Channels.appender(ArrayList::new)\n",
    "    );\n",
    "\n",
    "    public SimpleState(Map<String, Object> initData) {\n",
    "        super(initData);\n",
    "    }\n",
    "\n",
    "    public List<String> messages() {\n",
    "        return this.<List<String>>value(\"messages\")\n",
    "                .orElse( List.of() );\n",
    "    }\n",
    "}"
   ]
  },
  {
   "cell_type": "markdown",
   "id": "f01558eb",
   "metadata": {},
   "source": [
    "### 2-2. Node Definition"
   ]
  },
  {
   "cell_type": "code",
   "execution_count": null,
   "id": "49298000",
   "metadata": {
    "vscode": {
     "languageId": "java"
    }
   },
   "outputs": [],
   "source": [
    "import org.bsc.langgraph4j.action.NodeAction;\n",
    "import java.util.Collections;\n",
    "import java.util.Map;\n",
    "\n",
    "// Node that adds a greeting\n",
    "class GreeterNode implements NodeAction<SimpleState> {\n",
    "    @Override\n",
    "    public Map<String, Object> apply(SimpleState state) {\n",
    "        System.out.println(\"GreeterNode executing. Current messages: \" + state.messages());\n",
    "        return Map.of(SimpleState.MESSAGES_KEY, \"Hello from GreeterNode!\");\n",
    "    }\n",
    "}\n",
    "\n",
    "// Node that adds a response\n",
    "class ResponderNode implements NodeAction<SimpleState> {\n",
    "    @Override\n",
    "    public Map<String, Object> apply(SimpleState state) {\n",
    "        System.out.println(\"ResponderNode executing. Current messages: \" + state.messages());\n",
    "        List<String> currentMessages = state.messages();\n",
    "        if (currentMessages.contains(\"Hello from GreeterNode!\")) {\n",
    "            return Map.of(SimpleState.MESSAGES_KEY, \"Acknowledged greeting!\");\n",
    "        }\n",
    "        return Map.of(SimpleState.MESSAGES_KEY, \"No greeting found.\");\n",
    "    }\n",
    "}"
   ]
  },
  {
   "cell_type": "markdown",
   "id": "9c12491d",
   "metadata": {},
   "source": [
    "### 2-3. Graph Definition and Compilation"
   ]
  },
  {
   "cell_type": "code",
   "execution_count": null,
   "id": "76ee0f6f",
   "metadata": {
    "vscode": {
     "languageId": "java"
    }
   },
   "outputs": [],
   "source": [
    "import org.bsc.langgraph4j.StateGraph;\n",
    "import org.bsc.langgraph4j.GraphStateException;\n",
    "import static org.bsc.langgraph4j.action.AsyncNodeAction.node_async;\n",
    "import static org.bsc.langgraph4j.StateGraph.START;\n",
    "import static org.bsc.langgraph4j.StateGraph.END;\n",
    "\n",
    "import java.util.List;\n",
    "import java.util.Map;\n",
    "import java.io.IOException;\n",
    "\n",
    "public class SimpleGraphApp {\n",
    "    \n",
    "    public static void main(String[] args) throws GraphStateException, IOException {\n",
    "        // Initialize nodes\n",
    "        GreeterNode greeterNode = new GreeterNode();\n",
    "        ResponderNode responderNode = new ResponderNode();\n",
    "\n",
    "        // Define the graph structure\n",
    "       var stateGraph = new StateGraph<>(SimpleState.SCHEMA, initData -> new SimpleState(initData))\n",
    "            .addNode(\"greeter\", node_async(greeterNode))\n",
    "            .addNode(\"responder\", node_async(responderNode))\n",
    "            // Define edges\n",
    "            .addEdge(START, \"greeter\") // Start with the greeter node\n",
    "            .addEdge(\"greeter\", \"responder\")\n",
    "            .addEdge(\"responder\", END)   // End after the responder node\n",
    "            ;\n",
    "        // Compile the graph\n",
    "        var compiledGraph = stateGraph.compile();\n",
    "\n",
    "        // Run the graph\n",
    "        // The `stream` method returns an AsyncGenerator.\n",
    "        // For simplicity, we'll collect results. In a real app, you might process them as they arrive.\n",
    "        // Here, the final state after execution is the item of interest.\n",
    "        \n",
    "        for (var item : compiledGraph.stream( Map.of( SimpleState.MESSAGES_KEY, \"Let's, begin!\" ) ) ) {\n",
    "            System.out.println( item );\n",
    "        }\n",
    "\n",
    "        var representation = stateGraph.getGraph( GraphRepresentation.Type.PLANTUML, \"Graph\", false );\n",
    "        try {\n",
    "            // Display the diagram\n",
    "            displayDiagram(representation);\n",
    "        } catch (IOException e) {\n",
    "            System.err.println(\"Error displaying diagram: \" + e.getMessage());\n",
    "        }\n",
    "    }\n",
    "}\n",
    "\n"
   ]
  },
  {
   "cell_type": "code",
   "execution_count": null,
   "id": "ad7a8733",
   "metadata": {
    "vscode": {
     "languageId": "java"
    }
   },
   "outputs": [],
   "source": [
    "SimpleGraphApp.main(new String[]{});"
   ]
  }
 ],
 "metadata": {
  "language_info": {
   "name": "python"
  }
 },
 "nbformat": 4,
 "nbformat_minor": 5
}
