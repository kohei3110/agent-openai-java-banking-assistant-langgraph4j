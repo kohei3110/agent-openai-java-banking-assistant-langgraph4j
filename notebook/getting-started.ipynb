{
 "cells": [
  {
   "cell_type": "markdown",
   "metadata": {},
   "source": [
    "# はじめに"
   ]
  },
  {
   "cell_type": "code",
   "execution_count": 3,
   "metadata": {},
   "outputs": [],
   "source": [
    "var userHomeDir = System.getProperty(\"user.home\");\n",
    "var localRespoUrl = \"file://\" + userHomeDir + \"/.m2/repository/\";\n",
    "var langchain4jVersion = \"1.0.1\";\n",
    "var langchain4jbeta = \"1.0.1-beta6\";\n",
    "var langgraph4jVersion = \"1.6.0-beta2\";"
   ]
  },
  {
   "cell_type": "markdown",
   "metadata": {},
   "source": [
    "Jupyterキャッシュからインストールされたパッケージを削除"
   ]
  },
  {
   "cell_type": "code",
   "execution_count": 4,
   "metadata": {},
   "outputs": [],
   "source": [
    "%%bash \n",
    "rm -rf \\{userHomeDir}/Library/Jupyter/kernels/rapaio-jupyter-kernel/mima_cache/org/bsc/langgraph4j"
   ]
  },
  {
   "cell_type": "markdown",
   "metadata": {},
   "source": [
    "ローカルMavenリポジトリを追加し、必要なMaven依存関係をインストール"
   ]
  },
  {
   "cell_type": "code",
   "execution_count": 5,
   "metadata": {},
   "outputs": [
    {
     "name": "stdout",
     "output_type": "stream",
     "text": [
      "\u001b[0mRepository \u001b[1m\u001b[32mlocal\u001b[0m url: \u001b[1m\u001b[32mfile:///Users/koheisaito/.m2/repository/\u001b[0m added.\n",
      "\u001b[0mAdding dependency \u001b[0m\u001b[1m\u001b[32morg.slf4j:slf4j-jdk14:2.0.9\n",
      "\u001b[0mAdding dependency \u001b[0m\u001b[1m\u001b[32morg.bsc.langgraph4j:langgraph4j-core:1.6.0-beta2\n",
      "\u001b[0mAdding dependency \u001b[0m\u001b[1m\u001b[32mnet.sourceforge.plantuml:plantuml-mit:1.2024.8\n",
      "\u001b[0mSolving dependencies\n",
      "Resolved artifacts count: 5\n",
      "Add to classpath: \u001b[0m\u001b[32m/Users/koheisaito/Library/Jupyter/kernels/rapaio-jupyter-kernel/mima_cache/org/slf4j/slf4j-jdk14/2.0.9/slf4j-jdk14-2.0.9.jar\u001b[0m\n",
      "\u001b[0mAdd to classpath: \u001b[0m\u001b[32m/Users/koheisaito/Library/Jupyter/kernels/rapaio-jupyter-kernel/mima_cache/org/slf4j/slf4j-api/2.0.9/slf4j-api-2.0.9.jar\u001b[0m\n",
      "\u001b[0mAdd to classpath: \u001b[0m\u001b[32m/Users/koheisaito/Library/Jupyter/kernels/rapaio-jupyter-kernel/mima_cache/org/bsc/langgraph4j/langgraph4j-core/1.6.0-beta2/langgraph4j-core-1.6.0-beta2.jar\u001b[0m\n",
      "\u001b[0mAdd to classpath: \u001b[0m\u001b[32m/Users/koheisaito/Library/Jupyter/kernels/rapaio-jupyter-kernel/mima_cache/org/bsc/async/async-generator/3.2.0/async-generator-3.2.0.jar\u001b[0m\n",
      "\u001b[0mAdd to classpath: \u001b[0m\u001b[32m/Users/koheisaito/Library/Jupyter/kernels/rapaio-jupyter-kernel/mima_cache/net/sourceforge/plantuml/plantuml-mit/1.2024.8/plantuml-mit-1.2024.8.jar\u001b[0m\n",
      "\u001b[0m"
     ]
    }
   ],
   "source": [
    "%dependency /add-repo local \\{localRespoUrl} release|never snapshot|always\n",
    "// %dependency /list-repos\n",
    "%dependency /add org.slf4j:slf4j-jdk14:2.0.9\n",
    "%dependency /add org.bsc.langgraph4j:langgraph4j-core:\\{langgraph4jVersion}\n",
    "%dependency /add net.sourceforge.plantuml:plantuml-mit:1.2024.8\n",
    "%dependency /resolve"
   ]
  },
  {
   "cell_type": "code",
   "execution_count": 6,
   "metadata": {},
   "outputs": [],
   "source": [
    "import net.sourceforge.plantuml.SourceStringReader;\n",
    "import net.sourceforge.plantuml.FileFormatOption;\n",
    "import net.sourceforge.plantuml.FileFormat;\n",
    "import org.bsc.langgraph4j.GraphRepresentation;\n",
    "\n",
    "void displayDiagram( GraphRepresentation representation ) throws IOException { \n",
    "    \n",
    "    var reader = new SourceStringReader(representation.getContent());\n",
    "\n",
    "    try(var imageOutStream = new java.io.ByteArrayOutputStream()) {\n",
    "\n",
    "        var description = reader.outputImage( imageOutStream, 0, new FileFormatOption(FileFormat.PNG));\n",
    "\n",
    "        var imageInStream = new java.io.ByteArrayInputStream(  imageOutStream.toByteArray() );\n",
    "\n",
    "        var image = javax.imageio.ImageIO.read( imageInStream );\n",
    "\n",
    "        display(  image );\n",
    "\n",
    "    }\n",
    "}"
   ]
  },
  {
   "cell_type": "markdown",
   "metadata": {},
   "source": [
    "## 1. Stateの定義\n",
    "\n",
    "- State: **メッセージのリストを保持**します。"
   ]
  },
  {
   "cell_type": "code",
   "execution_count": 7,
   "metadata": {},
   "outputs": [],
   "source": [
    "import org.bsc.langgraph4j.state.AgentState;\n",
    "import org.bsc.langgraph4j.state.Channels;\n",
    "import org.bsc.langgraph4j.state.Channel;\n",
    "\n",
    "import java.util.Collections;\n",
    "import java.util.List;\n",
    "import java.util.Map;\n",
    "import java.util.Optional;\n",
    "\n",
    "// Define the state for our graph\n",
    "class SimpleState extends AgentState {\n",
    "    public static final String MESSAGES_KEY = \"messages\";\n",
    "\n",
    "    // Define the schema for the state.\n",
    "    // MESSAGES_KEY will hold a list of strings, and new messages will be appended.\n",
    "    public static final Map<String, Channel<?>> SCHEMA = Map.of(\n",
    "            MESSAGES_KEY, Channels.appender(ArrayList::new)\n",
    "    );\n",
    "\n",
    "    public SimpleState(Map<String, Object> initData) {\n",
    "        super(initData);\n",
    "    }\n",
    "\n",
    "    public List<String> messages() {\n",
    "        return this.<List<String>>value(\"messages\")\n",
    "                .orElse( List.of() );\n",
    "    }\n",
    "}"
   ]
  },
  {
   "cell_type": "markdown",
   "metadata": {},
   "source": [
    "## 2. ノードの定義"
   ]
  },
  {
   "cell_type": "code",
   "execution_count": 8,
   "metadata": {},
   "outputs": [],
   "source": [
    "import org.bsc.langgraph4j.action.NodeAction;\n",
    "import java.util.Collections;\n",
    "import java.util.Map;\n",
    "\n",
    "// Node that adds a greeting\n",
    "class GreeterNode implements NodeAction<SimpleState> {\n",
    "    @Override\n",
    "    public Map<String, Object> apply(SimpleState state) {\n",
    "        System.out.println(\"GreeterNode executing. Current messages: \" + state.messages());\n",
    "        return Map.of(SimpleState.MESSAGES_KEY, \"Hello from GreeterNode!\");\n",
    "    }\n",
    "}\n",
    "\n",
    "// Node that adds a response\n",
    "class ResponderNode implements NodeAction<SimpleState> {\n",
    "    @Override\n",
    "    public Map<String, Object> apply(SimpleState state) {\n",
    "        System.out.println(\"ResponderNode executing. Current messages: \" + state.messages());\n",
    "        List<String> currentMessages = state.messages();\n",
    "        if (currentMessages.contains(\"Hello from GreeterNode!\")) {\n",
    "            return Map.of(SimpleState.MESSAGES_KEY, \"Acknowledged greeting!\");\n",
    "        }\n",
    "        return Map.of(SimpleState.MESSAGES_KEY, \"No greeting found.\");\n",
    "    }\n",
    "}"
   ]
  },
  {
   "cell_type": "markdown",
   "metadata": {},
   "source": [
    "## 3. グラフの定義とコンパイル"
   ]
  },
  {
   "cell_type": "code",
   "execution_count": null,
   "metadata": {},
   "outputs": [],
   "source": [
    "import org.bsc.langgraph4j.StateGraph;\n",
    "import org.bsc.langgraph4j.GraphStateException;\n",
    "import static org.bsc.langgraph4j.action.AsyncNodeAction.node_async;\n",
    "import static org.bsc.langgraph4j.StateGraph.START;\n",
    "import static org.bsc.langgraph4j.StateGraph.END;\n",
    "\n",
    "import java.util.List;\n",
    "import java.util.Map;\n",
    "import java.io.IOException;\n",
    "\n",
    "public class SimpleGraphApp {\n",
    "    \n",
    "    public static void main(String[] args) throws GraphStateException, IOException {\n",
    "        // Initialize nodes\n",
    "        GreeterNode greeterNode = new GreeterNode();\n",
    "        ResponderNode responderNode = new ResponderNode();\n",
    "\n",
    "        // Define the graph structure\n",
    "       var stateGraph = new StateGraph<>(SimpleState.SCHEMA, initData -> new SimpleState(initData))\n",
    "            .addNode(\"greeter\", node_async(greeterNode))\n",
    "            .addNode(\"responder\", node_async(responderNode))\n",
    "            // Define edges\n",
    "            .addEdge(START, \"greeter\") // Start with the greeter node\n",
    "            .addEdge(\"greeter\", \"responder\")\n",
    "            .addEdge(\"responder\", END)   // End after the responder node\n",
    "             ;\n",
    "        // Compile the graph\n",
    "        var compiledGraph = stateGraph.compile();\n",
    "\n",
    "        // Run the graph\n",
    "        // The `stream` method returns an AsyncGenerator.\n",
    "        // For simplicity, we'll collect results. In a real app, you might process them as they arrive.\n",
    "        // Here, the final state after execution is the item of interest.\n",
    "        \n",
    "        for (var item : compiledGraph.stream( Map.of( SimpleState.MESSAGES_KEY, \"Let's, begin!\" ) ) ) {\n",
    "\n",
    "            System.out.println( item );\n",
    "        }\n",
    "\n",
    "        var representation = stateGraph.getGraph( GraphRepresentation.Type.PLANTUML, \"Graph\", false );\n",
    "        try {\n",
    "            // Display the diagram\n",
    "            displayDiagram(representation);\n",
    "        } catch (IOException e) {\n",
    "            System.err.println(\"Error displaying diagram: \" + e.getMessage());\n",
    "        }\n",
    "    }\n",
    "}\n",
    "\n"
   ]
  },
  {
   "cell_type": "code",
   "execution_count": 10,
   "metadata": {},
   "outputs": [
    {
     "name": "stdout",
     "output_type": "stream",
     "text": [
      "GreeterNode executing. Current messages: [Let's, begin!]\n",
      "NodeOutput{node=__START__, state={messages=[Let's, begin!]}}\n",
      "ResponderNode executing. Current messages: [Let's, begin!, Hello from GreeterNode!]\n",
      "NodeOutput{node=greeter, state={messages=[Let's, begin!, Hello from GreeterNode!]}}\n",
      "NodeOutput{node=responder, state={messages=[Let's, begin!, Hello from GreeterNode!, Acknowledged greeting!]}}\n",
      "NodeOutput{node=__END__, state={messages=[Let's, begin!, Hello from GreeterNode!, Acknowledged greeting!]}}\n",
      "@startuml Graph\n",
      "skinparam usecaseFontSize 14\n",
      "skinparam usecaseStereotypeFontSize 12\n",
      "skinparam hexagonFontSize 14\n",
      "skinparam hexagonStereotypeFontSize 12\n",
      "title \"Graph\"\n",
      "footer\n",
      "\n",
      "powered by langgraph4j\n",
      "end footer\n",
      "circle start<<input>> as __START__\n",
      "circle stop as __END__\n",
      "usecase \"greeter\"<<Node>>\n",
      "usecase \"responder\"<<Node>>\n",
      "\"__START__\" -down-> \"greeter\"\n",
      "\"greeter\" -down-> \"responder\"\n",
      "\"responder\" -down-> \"__END__\"\n",
      "@enduml\n",
      "\n"
     ]
    },
    {
     "data": {
      "image/png": "[encoded data removed]"
     },
     "metadata": {},
     "output_type": "display_data"
    }
   ],
   "source": [
    "SimpleGraphApp.main(new String[]{});"
   ]
  },
  {
   "cell_type": "code",
   "execution_count": null,
   "metadata": {},
   "outputs": [],
   "source": []
  }
 ],
 "metadata": {
  "kernelspec": {
   "display_name": "Java (rjk 2.2.0)",
   "language": "java",
   "name": "rapaio-jupyter-kernel"
  },
  "language_info": {
   "codemirror_mode": "java",
   "file_extension": ".jshell",
   "mimetype": "text/x-java-source",
   "name": "java",
   "nbconvert_exporter": "script",
   "pygments_lexer": "java",
   "version": "21.0.7+6-LTS"
  }
 },
 "nbformat": 4,
 "nbformat_minor": 2
}
